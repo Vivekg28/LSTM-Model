{
 "cells": [
  {
   "cell_type": "markdown",
   "id": "65bc2f90-c20d-4fba-8e2c-60ea572f263b",
   "metadata": {},
   "source": [
    "- TESLA stock prediction"
   ]
  },
  {
   "cell_type": "code",
   "execution_count": 1,
   "id": "c4999edc-b7f1-4a7a-83ee-93391b27c34f",
   "metadata": {},
   "outputs": [],
   "source": [
    "# Importing Libraries\n",
    "import pandas as pd\n",
    "import numpy as np\n",
    "import matplotlib.pyplot as plt\n",
    "from pandas_datareader import data as pdr\n",
    "import yfinance as yf\n",
    "import warnings \n",
    "warnings.filterwarnings('ignore')"
   ]
  },
  {
   "cell_type": "code",
   "execution_count": 2,
   "id": "df097c96-f131-4ff4-b655-5ea196992935",
   "metadata": {},
   "outputs": [
    {
     "name": "stdout",
     "output_type": "stream",
     "text": [
      "[*********************100%%**********************]  1 of 1 completed\n"
     ]
    },
    {
     "data": {
      "text/html": [
       "<div>\n",
       "<style scoped>\n",
       "    .dataframe tbody tr th:only-of-type {\n",
       "        vertical-align: middle;\n",
       "    }\n",
       "\n",
       "    .dataframe tbody tr th {\n",
       "        vertical-align: top;\n",
       "    }\n",
       "\n",
       "    .dataframe thead th {\n",
       "        text-align: right;\n",
       "    }\n",
       "</style>\n",
       "<table border=\"1\" class=\"dataframe\">\n",
       "  <thead>\n",
       "    <tr style=\"text-align: right;\">\n",
       "      <th></th>\n",
       "      <th>Open</th>\n",
       "      <th>High</th>\n",
       "      <th>Low</th>\n",
       "      <th>Close</th>\n",
       "      <th>Adj Close</th>\n",
       "      <th>Volume</th>\n",
       "    </tr>\n",
       "    <tr>\n",
       "      <th>Date</th>\n",
       "      <th></th>\n",
       "      <th></th>\n",
       "      <th></th>\n",
       "      <th></th>\n",
       "      <th></th>\n",
       "      <th></th>\n",
       "    </tr>\n",
       "  </thead>\n",
       "  <tbody>\n",
       "    <tr>\n",
       "      <th>2010-06-29</th>\n",
       "      <td>1.266667</td>\n",
       "      <td>1.666667</td>\n",
       "      <td>1.169333</td>\n",
       "      <td>1.592667</td>\n",
       "      <td>1.592667</td>\n",
       "      <td>281494500</td>\n",
       "    </tr>\n",
       "    <tr>\n",
       "      <th>2010-06-30</th>\n",
       "      <td>1.719333</td>\n",
       "      <td>2.028000</td>\n",
       "      <td>1.553333</td>\n",
       "      <td>1.588667</td>\n",
       "      <td>1.588667</td>\n",
       "      <td>257806500</td>\n",
       "    </tr>\n",
       "    <tr>\n",
       "      <th>2010-07-01</th>\n",
       "      <td>1.666667</td>\n",
       "      <td>1.728000</td>\n",
       "      <td>1.351333</td>\n",
       "      <td>1.464000</td>\n",
       "      <td>1.464000</td>\n",
       "      <td>123282000</td>\n",
       "    </tr>\n",
       "    <tr>\n",
       "      <th>2010-07-02</th>\n",
       "      <td>1.533333</td>\n",
       "      <td>1.540000</td>\n",
       "      <td>1.247333</td>\n",
       "      <td>1.280000</td>\n",
       "      <td>1.280000</td>\n",
       "      <td>77097000</td>\n",
       "    </tr>\n",
       "    <tr>\n",
       "      <th>2010-07-06</th>\n",
       "      <td>1.333333</td>\n",
       "      <td>1.333333</td>\n",
       "      <td>1.055333</td>\n",
       "      <td>1.074000</td>\n",
       "      <td>1.074000</td>\n",
       "      <td>103003500</td>\n",
       "    </tr>\n",
       "  </tbody>\n",
       "</table>\n",
       "</div>"
      ],
      "text/plain": [
       "                Open      High       Low     Close  Adj Close     Volume\n",
       "Date                                                                    \n",
       "2010-06-29  1.266667  1.666667  1.169333  1.592667   1.592667  281494500\n",
       "2010-06-30  1.719333  2.028000  1.553333  1.588667   1.588667  257806500\n",
       "2010-07-01  1.666667  1.728000  1.351333  1.464000   1.464000  123282000\n",
       "2010-07-02  1.533333  1.540000  1.247333  1.280000   1.280000   77097000\n",
       "2010-07-06  1.333333  1.333333  1.055333  1.074000   1.074000  103003500"
      ]
     },
     "execution_count": 2,
     "metadata": {},
     "output_type": "execute_result"
    }
   ],
   "source": [
    "# Importing Tesla data\n",
    "yf.pdr_override()\n",
    "start = '2010-01-01'\n",
    "end = '2020-12-31'\n",
    "df = pdr.get_data_yahoo('TSLA',start,end)\n",
    "df.head()"
   ]
  },
  {
   "cell_type": "code",
   "execution_count": 3,
   "id": "152a7f26-ebc4-4c88-9585-d84186f2c96f",
   "metadata": {},
   "outputs": [
    {
     "data": {
      "text/html": [
       "<div>\n",
       "<style scoped>\n",
       "    .dataframe tbody tr th:only-of-type {\n",
       "        vertical-align: middle;\n",
       "    }\n",
       "\n",
       "    .dataframe tbody tr th {\n",
       "        vertical-align: top;\n",
       "    }\n",
       "\n",
       "    .dataframe thead th {\n",
       "        text-align: right;\n",
       "    }\n",
       "</style>\n",
       "<table border=\"1\" class=\"dataframe\">\n",
       "  <thead>\n",
       "    <tr style=\"text-align: right;\">\n",
       "      <th></th>\n",
       "      <th>Open</th>\n",
       "      <th>High</th>\n",
       "      <th>Low</th>\n",
       "      <th>Close</th>\n",
       "    </tr>\n",
       "  </thead>\n",
       "  <tbody>\n",
       "    <tr>\n",
       "      <th>0</th>\n",
       "      <td>1.266667</td>\n",
       "      <td>1.666667</td>\n",
       "      <td>1.169333</td>\n",
       "      <td>1.592667</td>\n",
       "    </tr>\n",
       "    <tr>\n",
       "      <th>1</th>\n",
       "      <td>1.719333</td>\n",
       "      <td>2.028000</td>\n",
       "      <td>1.553333</td>\n",
       "      <td>1.588667</td>\n",
       "    </tr>\n",
       "    <tr>\n",
       "      <th>2</th>\n",
       "      <td>1.666667</td>\n",
       "      <td>1.728000</td>\n",
       "      <td>1.351333</td>\n",
       "      <td>1.464000</td>\n",
       "    </tr>\n",
       "    <tr>\n",
       "      <th>3</th>\n",
       "      <td>1.533333</td>\n",
       "      <td>1.540000</td>\n",
       "      <td>1.247333</td>\n",
       "      <td>1.280000</td>\n",
       "    </tr>\n",
       "    <tr>\n",
       "      <th>4</th>\n",
       "      <td>1.333333</td>\n",
       "      <td>1.333333</td>\n",
       "      <td>1.055333</td>\n",
       "      <td>1.074000</td>\n",
       "    </tr>\n",
       "  </tbody>\n",
       "</table>\n",
       "</div>"
      ],
      "text/plain": [
       "       Open      High       Low     Close\n",
       "0  1.266667  1.666667  1.169333  1.592667\n",
       "1  1.719333  2.028000  1.553333  1.588667\n",
       "2  1.666667  1.728000  1.351333  1.464000\n",
       "3  1.533333  1.540000  1.247333  1.280000\n",
       "4  1.333333  1.333333  1.055333  1.074000"
      ]
     },
     "execution_count": 3,
     "metadata": {},
     "output_type": "execute_result"
    }
   ],
   "source": [
    "df = df.reset_index()\n",
    "df = df.drop(['Date','Adj Close','Volume'],axis=1)\n",
    "df.head()"
   ]
  },
  {
   "cell_type": "code",
   "execution_count": 4,
   "id": "83e526a2-9647-4a21-9a1e-7916e8cc0718",
   "metadata": {},
   "outputs": [
    {
     "data": {
      "image/png": "[encoded data removed]",
      "text/plain": [
       "<Figure size 1300x400 with 1 Axes>"
      ]
     },
     "metadata": {},
     "output_type": "display_data"
    }
   ],
   "source": [
    "# Plot - Close column\n",
    "plt.figure(figsize=(13,4))\n",
    "plt.plot('Open',data=df,color='b')\n",
    "plt.legend()\n",
    "plt.show()"
   ]
  },
  {
   "cell_type": "code",
   "execution_count": 5,
   "id": "9c38c82d-cdaf-4db3-a298-0c79c7a4e492",
   "metadata": {},
   "outputs": [],
   "source": [
    "# ma100 , ma200\n",
    "ma100 = df.Open.rolling(100).mean()\n",
    "ma200 = df.Open.rolling(200).mean()"
   ]
  },
  {
   "cell_type": "code",
   "execution_count": 6,
   "id": "0f40462d-99c0-4761-be4e-f7a64e5026c7",
   "metadata": {},
   "outputs": [
    {
     "data": {
      "image/png": "[encoded data removed]",
      "text/plain": [
       "<Figure size 1300x400 with 1 Axes>"
      ]
     },
     "metadata": {},
     "output_type": "display_data"
    }
   ],
   "source": [
    "# Plot ma100, ma200\n",
    "plt.figure(figsize=(13,4))\n",
    "plt.plot('Open',data=df,color='b')\n",
    "plt.plot(ma100,color='g',label ='ma100')\n",
    "plt.plot(ma200,color='r',label='ma200')\n",
    "plt.legend()\n",
    "plt.show()"
   ]
  },
  {
   "cell_type": "code",
   "execution_count": 7,
   "id": "af056092-517e-42d4-82ea-99759a3b7974",
   "metadata": {},
   "outputs": [
    {
     "data": {
      "text/plain": [
       "(2646, 4)"
      ]
     },
     "execution_count": 7,
     "metadata": {},
     "output_type": "execute_result"
    }
   ],
   "source": [
    "df.shape"
   ]
  },
  {
   "cell_type": "code",
   "execution_count": 18,
   "id": "bbd679a6-037b-4f6d-8dba-aa98b376d486",
   "metadata": {},
   "outputs": [
    {
     "data": {
      "text/plain": [
       "((1852, 1), (794, 1))"
      ]
     },
     "execution_count": 18,
     "metadata": {},
     "output_type": "execute_result"
    }
   ],
   "source": [
    "# Training and Testing Data\n",
    "training_data = pd.DataFrame(df['Open'][0:int(len(df)*0.70)])\n",
    "testing_data = pd.DataFrame(df['Open'][int(len(df)*0.70):int(len(df))])\n",
    "\n",
    "training_data.shape, testing_data.shape"
   ]
  },
  {
   "cell_type": "code",
   "execution_count": 19,
   "id": "7a0bb2b5-65c9-448c-a229-8fbb820bf377",
   "metadata": {},
   "outputs": [],
   "source": [
    "# Scaling\n",
    "from sklearn.preprocessing import MinMaxScaler\n",
    "scaler = MinMaxScaler(feature_range=(0, 1))"
   ]
  },
  {
   "cell_type": "code",
   "execution_count": 20,
   "id": "0c4b0869-2e3b-46f2-944d-279dab103a62",
   "metadata": {},
   "outputs": [],
   "source": [
    "training_data_array= scaler.fit_transform(training_data)"
   ]
  },
  {
   "cell_type": "code",
   "execution_count": 22,
   "id": "f2e2861c-9978-4664-812b-465b3213be3a",
   "metadata": {},
   "outputs": [
    {
     "data": {
      "text/plain": [
       "(1852, 1)"
      ]
     },
     "execution_count": 22,
     "metadata": {},
     "output_type": "execute_result"
    }
   ],
   "source": [
    "training_data_array.shape"
   ]
  },
  {
   "cell_type": "code",
   "execution_count": 27,
   "id": "9bf1b04f-1e55-46fc-b3b3-8b97cb91540b",
   "metadata": {},
   "outputs": [],
   "source": [
    "# Split\n",
    "x_train = []\n",
    "y_train = []\n",
    "\n",
    "for i in range(100,training_data_array.shape[0]):\n",
    "    x_train.append(training_data_array[i - 100 : i])\n",
    "    y_train.append(training_data_array[i, 0])\n",
    "\n",
    "x_train, y_train = np.array(x_train), np.array(y_train)"
   ]
  },
  {
   "cell_type": "code",
   "execution_count": 28,
   "id": "db69f923-8457-4c01-a97e-280ec1d66028",
   "metadata": {},
   "outputs": [
    {
     "data": {
      "text/plain": [
       "(1752, 100, 1)"
      ]
     },
     "execution_count": 28,
     "metadata": {},
     "output_type": "execute_result"
    }
   ],
   "source": [
    "x_train.shape"
   ]
  },
  {
   "cell_type": "code",
   "execution_count": 29,
   "id": "c26d8fd9-cfa0-4346-971e-e0531cd699f3",
   "metadata": {},
   "outputs": [],
   "source": [
    "# Model\n",
    "from keras.layers import Dense, Dropout, LSTM\n",
    "from keras.models import Sequential"
   ]
  },
  {
   "cell_type": "code",
   "execution_count": 30,
   "id": "28d87eab-98f5-4d28-86ec-7a7ce8810932",
   "metadata": {},
   "outputs": [],
   "source": [
    "model = Sequential()\n",
    "model.add(LSTM(units=50, activation = 'relu', return_sequences = True, input_shape = (x_train.shape[1],1)))\n",
    "model.add(Dropout(0.2))\n",
    "\n",
    "model.add(LSTM(units=60, activation = 'relu', return_sequences = True))\n",
    "model.add(Dropout(0.3))\n",
    "\n",
    "model.add(LSTM(units=80, activation = 'relu', return_sequences = True))\n",
    "model.add(Dropout(0.4))\n",
    "\n",
    "model.add(LSTM(units=120, activation = 'relu'))\n",
    "model.add(Dropout(0.5))\n",
    "\n",
    "model.add(Dense(units = 1))      "
   ]
  },
  {
   "cell_type": "code",
   "execution_count": 31,
   "id": "490ebb5d-2f7c-4b95-84f2-8a42c934d9e4",
   "metadata": {},
   "outputs": [
    {
     "name": "stdout",
     "output_type": "stream",
     "text": [
      "Model: \"sequential_2\"\n",
      "_________________________________________________________________\n",
      " Layer (type)                Output Shape              Param #   \n",
      "=================================================================\n",
      " lstm (LSTM)                 (None, 100, 50)           10400     \n",
      "                                                                 \n",
      " dropout (Dropout)           (None, 100, 50)           0         \n",
      "                                                                 \n",
      " lstm_1 (LSTM)               (None, 100, 60)           26640     \n",
      "                                                                 \n",
      " dropout_1 (Dropout)         (None, 100, 60)           0         \n",
      "                                                                 \n",
      " lstm_2 (LSTM)               (None, 100, 80)           45120     \n",
      "                                                                 \n",
      " dropout_2 (Dropout)         (None, 100, 80)           0         \n",
      "                                                                 \n",
      " lstm_3 (LSTM)               (None, 120)               96480     \n",
      "                                                                 \n",
      " dropout_3 (Dropout)         (None, 120)               0         \n",
      "                                                                 \n",
      " dense (Dense)               (None, 1)                 121       \n",
      "                                                                 \n",
      "=================================================================\n",
      "Total params: 178,761\n",
      "Trainable params: 178,761\n",
      "Non-trainable params: 0\n",
      "_________________________________________________________________\n"
     ]
    }
   ],
   "source": [
    "model.summary()"
   ]
  },
  {
   "cell_type": "code",
   "execution_count": 32,
   "id": "37107da4-a73a-46d4-950e-a86aba32f9f2",
   "metadata": {},
   "outputs": [
    {
     "name": "stdout",
     "output_type": "stream",
     "text": [
      "Epoch 1/50\n",
      "55/55 [==============================] - 22s 258ms/step - loss: 0.0464\n",
      "Epoch 2/50\n",
      "55/55 [==============================] - 16s 285ms/step - loss: 0.0100\n",
      "Epoch 3/50\n",
      "55/55 [==============================] - 15s 280ms/step - loss: 0.0082\n",
      "Epoch 4/50\n",
      "55/55 [==============================] - 14s 249ms/step - loss: 0.0080\n",
      "Epoch 5/50\n",
      "55/55 [==============================] - 14s 249ms/step - loss: 0.0065\n",
      "Epoch 6/50\n",
      "55/55 [==============================] - 13s 245ms/step - loss: 0.0072\n",
      "Epoch 7/50\n",
      "55/55 [==============================] - 14s 250ms/step - loss: 0.0066\n",
      "Epoch 8/50\n",
      "55/55 [==============================] - 14s 250ms/step - loss: 0.0052\n",
      "Epoch 9/50\n",
      "55/55 [==============================] - 14s 252ms/step - loss: 0.0059\n",
      "Epoch 10/50\n",
      "55/55 [==============================] - 14s 253ms/step - loss: 0.0063\n",
      "Epoch 11/50\n",
      "55/55 [==============================] - 14s 251ms/step - loss: 0.0064\n",
      "Epoch 12/50\n",
      "55/55 [==============================] - 14s 250ms/step - loss: 0.0053\n",
      "Epoch 13/50\n",
      "55/55 [==============================] - 14s 246ms/step - loss: 0.0052\n",
      "Epoch 14/50\n",
      "55/55 [==============================] - 14s 249ms/step - loss: 0.0052\n",
      "Epoch 15/50\n",
      "55/55 [==============================] - 14s 250ms/step - loss: 0.0058\n",
      "Epoch 16/50\n",
      "55/55 [==============================] - 14s 250ms/step - loss: 0.0048\n",
      "Epoch 17/50\n",
      "55/55 [==============================] - 14s 251ms/step - loss: 0.0052\n",
      "Epoch 18/50\n",
      "55/55 [==============================] - 14s 257ms/step - loss: 0.0050\n",
      "Epoch 19/50\n",
      "55/55 [==============================] - 14s 253ms/step - loss: 0.0042\n",
      "Epoch 20/50\n",
      "55/55 [==============================] - 14s 247ms/step - loss: 0.0042\n",
      "Epoch 21/50\n",
      "55/55 [==============================] - 14s 252ms/step - loss: 0.0046\n",
      "Epoch 22/50\n",
      "55/55 [==============================] - 14s 251ms/step - loss: 0.0044\n",
      "Epoch 23/50\n",
      "55/55 [==============================] - 14s 250ms/step - loss: 0.0048\n",
      "Epoch 24/50\n",
      "55/55 [==============================] - 14s 249ms/step - loss: 0.0042\n",
      "Epoch 25/50\n",
      "55/55 [==============================] - 14s 249ms/step - loss: 0.0045\n",
      "Epoch 26/50\n",
      "55/55 [==============================] - 14s 248ms/step - loss: 0.0039\n",
      "Epoch 27/50\n",
      "55/55 [==============================] - 14s 247ms/step - loss: 0.0039\n",
      "Epoch 28/50\n",
      "55/55 [==============================] - 14s 247ms/step - loss: 0.0038\n",
      "Epoch 29/50\n",
      "55/55 [==============================] - 14s 249ms/step - loss: 0.0039\n",
      "Epoch 30/50\n",
      "55/55 [==============================] - 14s 248ms/step - loss: 0.0040\n",
      "Epoch 31/50\n",
      "55/55 [==============================] - 14s 250ms/step - loss: 0.0038\n",
      "Epoch 32/50\n",
      "55/55 [==============================] - 14s 250ms/step - loss: 0.0040\n",
      "Epoch 33/50\n",
      "55/55 [==============================] - 14s 251ms/step - loss: 0.0040\n",
      "Epoch 34/50\n",
      "55/55 [==============================] - 14s 248ms/step - loss: 0.0038\n",
      "Epoch 35/50\n",
      "55/55 [==============================] - 14s 247ms/step - loss: 0.0037\n",
      "Epoch 36/50\n",
      "55/55 [==============================] - 14s 249ms/step - loss: 0.0037\n",
      "Epoch 37/50\n",
      "55/55 [==============================] - 14s 250ms/step - loss: 0.0037\n",
      "Epoch 38/50\n",
      "55/55 [==============================] - 14s 251ms/step - loss: 0.0035\n",
      "Epoch 39/50\n",
      "55/55 [==============================] - 14s 252ms/step - loss: 0.0039\n",
      "Epoch 40/50\n",
      "55/55 [==============================] - 14s 252ms/step - loss: 0.0037\n",
      "Epoch 41/50\n",
      "55/55 [==============================] - 14s 249ms/step - loss: 0.0036\n",
      "Epoch 42/50\n",
      "55/55 [==============================] - 14s 248ms/step - loss: 0.0034\n",
      "Epoch 43/50\n",
      "55/55 [==============================] - 14s 254ms/step - loss: 0.0032\n",
      "Epoch 44/50\n",
      "55/55 [==============================] - 14s 250ms/step - loss: 0.0036\n",
      "Epoch 45/50\n",
      "55/55 [==============================] - 14s 251ms/step - loss: 0.0035\n",
      "Epoch 46/50\n",
      "55/55 [==============================] - 14s 250ms/step - loss: 0.0031\n",
      "Epoch 47/50\n",
      "55/55 [==============================] - 14s 250ms/step - loss: 0.0035\n",
      "Epoch 48/50\n",
      "55/55 [==============================] - 14s 250ms/step - loss: 0.0034\n",
      "Epoch 49/50\n",
      "55/55 [==============================] - 14s 260ms/step - loss: 0.0034\n",
      "Epoch 50/50\n",
      "55/55 [==============================] - 14s 261ms/step - loss: 0.0034\n"
     ]
    },
    {
     "data": {
      "text/plain": [
       "<keras.callbacks.History at 0x2e13d235b40>"
      ]
     },
     "execution_count": 32,
     "metadata": {},
     "output_type": "execute_result"
    }
   ],
   "source": [
    "model.compile(optimizer=\"adam\", loss = \"mean_squared_error\")\n",
    "model.fit(x_train, y_train, epochs = 50)"
   ]
  },
  {
   "cell_type": "code",
   "execution_count": 33,
   "id": "b05ca417-d06f-4dd2-a85b-61715ad9b876",
   "metadata": {},
   "outputs": [
    {
     "name": "stdout",
     "output_type": "stream",
     "text": [
      "INFO:tensorflow:Assets written to: keras_model.h6\\assets\n"
     ]
    }
   ],
   "source": [
    "model.save('keras_model.h6')"
   ]
  },
  {
   "cell_type": "code",
   "execution_count": 35,
   "id": "5d019dc6-bdd8-42b9-ac1e-364746bfe681",
   "metadata": {},
   "outputs": [
    {
     "data": {
      "text/html": [
       "<div>\n",
       "<style scoped>\n",
       "    .dataframe tbody tr th:only-of-type {\n",
       "        vertical-align: middle;\n",
       "    }\n",
       "\n",
       "    .dataframe tbody tr th {\n",
       "        vertical-align: top;\n",
       "    }\n",
       "\n",
       "    .dataframe thead th {\n",
       "        text-align: right;\n",
       "    }\n",
       "</style>\n",
       "<table border=\"1\" class=\"dataframe\">\n",
       "  <thead>\n",
       "    <tr style=\"text-align: right;\">\n",
       "      <th></th>\n",
       "      <th>Open</th>\n",
       "    </tr>\n",
       "  </thead>\n",
       "  <tbody>\n",
       "    <tr>\n",
       "      <th>1752</th>\n",
       "      <td>25.406000</td>\n",
       "    </tr>\n",
       "    <tr>\n",
       "      <th>1753</th>\n",
       "      <td>24.833332</td>\n",
       "    </tr>\n",
       "    <tr>\n",
       "      <th>1754</th>\n",
       "      <td>25.198668</td>\n",
       "    </tr>\n",
       "    <tr>\n",
       "      <th>1755</th>\n",
       "      <td>25.000000</td>\n",
       "    </tr>\n",
       "    <tr>\n",
       "      <th>1756</th>\n",
       "      <td>25.111334</td>\n",
       "    </tr>\n",
       "    <tr>\n",
       "      <th>...</th>\n",
       "      <td>...</td>\n",
       "    </tr>\n",
       "    <tr>\n",
       "      <th>1847</th>\n",
       "      <td>21.316668</td>\n",
       "    </tr>\n",
       "    <tr>\n",
       "      <th>1848</th>\n",
       "      <td>21.278667</td>\n",
       "    </tr>\n",
       "    <tr>\n",
       "      <th>1849</th>\n",
       "      <td>21.348667</td>\n",
       "    </tr>\n",
       "    <tr>\n",
       "      <th>1850</th>\n",
       "      <td>22.150000</td>\n",
       "    </tr>\n",
       "    <tr>\n",
       "      <th>1851</th>\n",
       "      <td>20.008667</td>\n",
       "    </tr>\n",
       "  </tbody>\n",
       "</table>\n",
       "<p>100 rows × 1 columns</p>\n",
       "</div>"
      ],
      "text/plain": [
       "           Open\n",
       "1752  25.406000\n",
       "1753  24.833332\n",
       "1754  25.198668\n",
       "1755  25.000000\n",
       "1756  25.111334\n",
       "...         ...\n",
       "1847  21.316668\n",
       "1848  21.278667\n",
       "1849  21.348667\n",
       "1850  22.150000\n",
       "1851  20.008667\n",
       "\n",
       "[100 rows x 1 columns]"
      ]
     },
     "execution_count": 35,
     "metadata": {},
     "output_type": "execute_result"
    }
   ],
   "source": [
    "past_100_days = training_data.tail(100)\n",
    "past_100_days"
   ]
  },
  {
   "cell_type": "code",
   "execution_count": 36,
   "id": "d7a8cb80-b47f-4f2d-9d72-a813a1ff5345",
   "metadata": {},
   "outputs": [
    {
     "data": {
      "text/html": [
       "<div>\n",
       "<style scoped>\n",
       "    .dataframe tbody tr th:only-of-type {\n",
       "        vertical-align: middle;\n",
       "    }\n",
       "\n",
       "    .dataframe tbody tr th {\n",
       "        vertical-align: top;\n",
       "    }\n",
       "\n",
       "    .dataframe thead th {\n",
       "        text-align: right;\n",
       "    }\n",
       "</style>\n",
       "<table border=\"1\" class=\"dataframe\">\n",
       "  <thead>\n",
       "    <tr style=\"text-align: right;\">\n",
       "      <th></th>\n",
       "      <th>Open</th>\n",
       "    </tr>\n",
       "  </thead>\n",
       "  <tbody>\n",
       "    <tr>\n",
       "      <th>0</th>\n",
       "      <td>25.406000</td>\n",
       "    </tr>\n",
       "    <tr>\n",
       "      <th>1</th>\n",
       "      <td>24.833332</td>\n",
       "    </tr>\n",
       "    <tr>\n",
       "      <th>2</th>\n",
       "      <td>25.198668</td>\n",
       "    </tr>\n",
       "    <tr>\n",
       "      <th>3</th>\n",
       "      <td>25.000000</td>\n",
       "    </tr>\n",
       "    <tr>\n",
       "      <th>4</th>\n",
       "      <td>25.111334</td>\n",
       "    </tr>\n",
       "  </tbody>\n",
       "</table>\n",
       "</div>"
      ],
      "text/plain": [
       "        Open\n",
       "0  25.406000\n",
       "1  24.833332\n",
       "2  25.198668\n",
       "3  25.000000\n",
       "4  25.111334"
      ]
     },
     "execution_count": 36,
     "metadata": {},
     "output_type": "execute_result"
    }
   ],
   "source": [
    "final_df = pd.concat([past_100_days,testing_data],ignore_index = True)\n",
    "final_df.head()"
   ]
  },
  {
   "cell_type": "code",
   "execution_count": 37,
   "id": "fc7cf7c0-d80f-4192-9f6f-0e10f0541421",
   "metadata": {},
   "outputs": [],
   "source": [
    "# Scale\n",
    "input_data = scaler.fit_transform(final_df)"
   ]
  },
  {
   "cell_type": "code",
   "execution_count": 38,
   "id": "f2c830cf-63cb-4af7-b817-1c0807c15672",
   "metadata": {},
   "outputs": [],
   "source": [
    "# Split\n",
    "x_test = []\n",
    "y_test = []\n",
    "\n",
    "for i in range(100, input_data.shape[0]):\n",
    "    x_test.append(input_data[i - 100: i])\n",
    "    y_test.append(input_data[i, 0])\n",
    "\n",
    "x_test, y_test = np.array(x_test), np.array(y_test)"
   ]
  },
  {
   "cell_type": "code",
   "execution_count": 39,
   "id": "be795c2e-262a-4bf3-99e6-334f0edbd6ab",
   "metadata": {},
   "outputs": [
    {
     "name": "stdout",
     "output_type": "stream",
     "text": [
      "25/25 [==============================] - 3s 76ms/step\n"
     ]
    }
   ],
   "source": [
    "# Making Predictions \n",
    "y_pred = model.predict(x_test)"
   ]
  },
  {
   "cell_type": "code",
   "execution_count": 44,
   "id": "627c8ec2-29fc-42fb-9b8d-3896ebe22bea",
   "metadata": {},
   "outputs": [
    {
     "data": {
      "text/plain": [
       "array([0.00470006])"
      ]
     },
     "execution_count": 44,
     "metadata": {},
     "output_type": "execute_result"
    }
   ],
   "source": [
    "# Scale down\n",
    "scaler.scale_"
   ]
  },
  {
   "cell_type": "code",
   "execution_count": 41,
   "id": "c4e21e73-c0d7-4c47-bf8f-75a6a6e37696",
   "metadata": {},
   "outputs": [],
   "source": [
    "scale_factor = 1/0.00470006\n",
    "y_pred = y_pred * scale_factor\n",
    "y_test = y_test * scale_factor"
   ]
  },
  {
   "cell_type": "code",
   "execution_count": 45,
   "id": "7618cffc-5fde-414c-9805-20979f770a59",
   "metadata": {},
   "outputs": [
    {
     "data": {
      "image/png": "[encoded data removed]",
      "text/plain": [
       "<Figure size 1300x400 with 1 Axes>"
      ]
     },
     "metadata": {},
     "output_type": "display_data"
    }
   ],
   "source": [
    "# Plot - Predicted price\n",
    "plt.figure(figsize=(13, 4))\n",
    "plt.plot(y_test, 'b', label = 'Original Price')\n",
    "plt.plot(y_pred, 'r', label = 'Predicted Price')\n",
    "plt.xlabel('Time')\n",
    "plt.ylabel('Price')\n",
    "plt.legend()\n",
    "plt.show()"
   ]
  },
  {
   "cell_type": "code",
   "execution_count": null,
   "id": "678f8f44-d9d6-47b9-ad89-b5a25f5355b1",
   "metadata": {},
   "outputs": [],
   "source": []
  }
 ],
 "metadata": {
  "kernelspec": {
   "display_name": "Python 3 (ipykernel)",
   "language": "python",
   "name": "python3"
  },
  "language_info": {
   "codemirror_mode": {
    "name": "ipython",
    "version": 3
   },
   "file_extension": ".py",
   "mimetype": "text/x-python",
   "name": "python",
   "nbconvert_exporter": "python",
   "pygments_lexer": "ipython3",
   "version": "3.10.13"
  }
 },
 "nbformat": 4,
 "nbformat_minor": 5
}
